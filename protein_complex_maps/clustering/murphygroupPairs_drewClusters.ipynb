{
 "cells": [
  {
   "cell_type": "markdown",
   "source": [
    "# install packages and load libraries--gw added"
   ],
   "metadata": {
    "collapsed": false
   }
  },
  {
   "cell_type": "markdown",
   "source": [
    "Install non-native packages"
   ],
   "metadata": {
    "collapsed": false
   }
  },
  {
   "cell_type": "code",
   "execution_count": null,
   "outputs": [],
   "source": [
    "%%capture\n",
    "!pip install -U scikit-learn\n",
    "!pip install ipynb"
   ],
   "metadata": {
    "collapsed": false
   }
  },
  {
   "cell_type": "markdown",
   "source": [
    "Import common packages"
   ],
   "metadata": {
    "collapsed": false
   }
  },
  {
   "cell_type": "code",
   "execution_count": null,
   "outputs": [],
   "source": [
    "import copy, cProfile, datetime, glob, itertools, math\n",
    "import matplotlib.pyplot as plt\n",
    "import networkx as nx\n",
    "import numpy as np\n",
    "import os\n",
    "import pandas as pd\n",
    "import pickle, pstats, re\n",
    "import seaborn as sns\n",
    "import shutil\n",
    "from statistics import mean\n",
    "import subprocess, sys\n",
    "import time"
   ],
   "metadata": {
    "collapsed": false
   }
  },
  {
   "cell_type": "markdown",
   "source": [
    "Enable Google Colab, mount drives, and load proprietary modules..."
   ],
   "metadata": {
    "collapsed": false
   }
  },
  {
   "cell_type": "code",
   "execution_count": null,
   "outputs": [],
   "source": [
    "%%capture\n",
    "from google.colab import drive, files\n",
    "drive.mount('/content/drive', force_remount=True)"
   ],
   "metadata": {
    "collapsed": false
   }
  },
  {
   "cell_type": "code",
   "execution_count": null,
   "outputs": [],
   "source": [
    "workDir = './drive/My Drive/Colab Notebooks/otherStudies/'\n",
    "sys.path.insert(0, workDir)"
   ],
   "metadata": {
    "collapsed": false
   }
  },
  {
   "cell_type": "code",
   "execution_count": null,
   "outputs": [],
   "source": [
    "from protein_complex_maps.clustering.clustering_parameter_optimization import cluster\n",
    "import protein_complex_maps.evaluation.complex_comparison as cc"
   ],
   "metadata": {
    "collapsed": false
   }
  },
  {
   "cell_type": "markdown",
   "source": [
    "# Load files"
   ],
   "metadata": {
    "collapsed": false
   }
  },
  {
   "cell_type": "code",
   "execution_count": null,
   "outputs": [],
   "source": [
    "goldTraining = workDir + '/protein_complex_maps/corumComplexes/train_complexes.txt'\n",
    "goldTesting = workDir + '/protein_complex_maps/corumComplexes/test_complexes.txt'"
   ],
   "metadata": {
    "collapsed": false
   }
  },
  {
   "cell_type": "code",
   "execution_count": null,
   "outputs": [],
   "source": [
    "lm2019Pairs_file = workDir + '/protein_complex_maps/pairsData/lm2019Pairs_expSet.txt'\n",
    "#ELCFS cell-specific pairs data files\n",
    "elcfsPairs_files = \\\n",
    "    {filename.split('_')[-1].split('.')[0]: filename\n",
    "     for filename in glob.glob(workDir + '/protein_complex_maps/pairsData/*elcfs*')}"
   ],
   "metadata": {
    "collapsed": false
   }
  },
  {
   "cell_type": "markdown",
   "source": [
    "## LM2019"
   ],
   "metadata": {
    "collapsed": false
   }
  },
  {
   "cell_type": "code",
   "execution_count": null,
   "outputs": [],
   "source": [
    "lmOutput = workDir + \\\n",
    "  '/protein_complex_maps/generatedComplexes/lm2019Pairs_drew2021Clusters.txt'\n",
    "cluster(lm2019Pairs_file, goldTraining, lmOutput)"
   ],
   "metadata": {
    "collapsed": false
   }
  },
  {
   "cell_type": "markdown",
   "source": [
    "## ELCFS"
   ],
   "metadata": {
    "collapsed": false
   }
  },
  {
   "cell_type": "code",
   "execution_count": null,
   "outputs": [],
   "source": [
    "elcfsOutput_root = \\\n",
    "    workDir + '/protein_complex_maps/generatedComplexes/elcfsPairs_drew2021Clusters'\n",
    "elcfsOutput = {key: elcfsOutput_root + '_' + key + '.txt'}\n",
    "\n",
    "cluster(elcfsPairs_files['Mean'], goldTraining, elcfsOutput['Mean'])"
   ],
   "metadata": {
    "collapsed": false
   }
  }
 ],
 "metadata": {
  "kernelspec": {
   "display_name": "Python 3",
   "language": "python",
   "name": "python3"
  },
  "language_info": {
   "codemirror_mode": {
    "name": "ipython",
    "version": 2
   },
   "file_extension": ".py",
   "mimetype": "text/x-python",
   "name": "python",
   "nbconvert_exporter": "python",
   "pygments_lexer": "ipython2",
   "version": "2.7.6"
  }
 },
 "nbformat": 4,
 "nbformat_minor": 0
}