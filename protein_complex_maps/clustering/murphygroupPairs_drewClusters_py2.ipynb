{
 "nbformat": 4,
 "nbformat_minor": 0,
 "metadata": {
  "colab": {
   "provenance": [
    {
     "file_id": "1InhXxX9oUfEFVqDU0IS4rhCmOY-Ngbv1",
     "timestamp": 1675079015787
    }
   ],
   "authorship_tag": "ABX9TyP5hwse6RPw7ktqty9u2T8g"
  },
  "kernelspec": {
   "name": "python2",
   "display_name": "Python 2"
  },
  "language_info": {
   "name": "python"
  }
 },
 "cells": [
  {
   "cell_type": "markdown",
   "source": [
    "Install non-native packages"
   ],
   "metadata": {
    "collapsed": false
   }
  },
  {
   "cell_type": "code",
   "execution_count": null,
   "outputs": [],
   "source": [
    "%%capture\n",
    "!pip install -U scikit-learn\n",
    "!pip install ipynb"
   ],
   "metadata": {
    "collapsed": false
   }
  },
  {
   "cell_type": "markdown",
   "source": [
    "Enable Google Colab and mount drives"
   ],
   "metadata": {
    "collapsed": false
   }
  },
  {
   "cell_type": "code",
   "execution_count": null,
   "outputs": [],
   "source": [
    "from google.colab import drive, files\n",
    "drive.mount('/content/drive', force_remount=True)"
   ],
   "metadata": {
    "collapsed": false
   }
  },
  {
   "cell_type": "markdown",
   "source": [
    "Import common packages"
   ],
   "metadata": {
    "collapsed": false
   }
  },
  {
   "cell_type": "code",
   "execution_count": null,
   "outputs": [],
   "source": [
    "import glob, sys, time"
   ],
   "metadata": {
    "collapsed": false
   }
  },
  {
   "cell_type": "markdown",
   "source": [
    "Define major directories"
   ],
   "metadata": {
    "collapsed": false
   }
  },
  {
   "cell_type": "code",
   "execution_count": null,
   "outputs": [],
   "source": [
    "rootDir = \"My Drive/Primary Research/\"\n",
    "workDir = rootDir + \"JLMwSCBC_notebook/\"\n",
    "drew2021_codeDir = rootDir + \"otherStudies/\""
   ],
   "metadata": {
    "collapsed": false
   }
  },
  {
   "cell_type": "markdown",
   "source": [
    "Define minor directories"
   ],
   "metadata": {
    "collapsed": false
   }
  },
  {
   "cell_type": "code",
   "execution_count": null,
   "outputs": [],
   "source": [
    "pairsFile_dir = workDir + \"complexPredictions/\"\n",
    "tempDir = workDir + \"tempDir/\""
   ],
   "metadata": {
    "collapsed": false
   }
  },
  {
   "cell_type": "markdown",
   "source": [
    "Import proprietary packages"
   ],
   "metadata": {
    "collapsed": false
   }
  },
  {
   "cell_type": "code",
   "execution_count": null,
   "outputs": [],
   "source": [
    "sys.path.insert(0, rootDir)\n",
    "sys.path.append(workDir)\n",
    "sys.path.append(drew2021_codeDir)\n",
    "from protein_complex_maps.clustering.clustering_parameter_optimization import main as drewCluster"
   ],
   "metadata": {
    "collapsed": false
   }
  },
  {
   "cell_type": "markdown",
   "source": [
    "Set file paths"
   ],
   "metadata": {
    "collapsed": false
   }
  },
  {
   "cell_type": "code",
   "execution_count": null,
   "outputs": [],
   "source": [
    "lm2019Pairs_baseSet = pairsFile_dir + \"lm2019Pairs_expSet.txt\"\n",
    "controlTraining_filename = pairsFile_dir + \"humap1Controls/train_complexes.txt\"\n",
    "outputFilename = pairsFile_dir + \"drew2021_clusteringOutputs/lm2019Pairs_drew2021_clusters.txt\""
   ],
   "metadata": {
    "collapsed": false
   }
  },
  {
   "cell_type": "markdown",
   "source": [
    "Cluster pairs using Drew 2021 code"
   ],
   "metadata": {
    "collapsed": false
   }
  },
  {
   "cell_type": "code",
   "execution_count": null,
   "outputs": [],
   "source": [
    "drewCluster(lm2019Pairs_baseSet, controlTraining_filename, outputFilename, tempDir)"
   ],
   "metadata": {
    "collapsed": false
   }
  }
 ]
}
